{
 "cells": [
  {
   "cell_type": "markdown",
   "source": [
    "# Ciclos\n",
    "Es la forma que en programación podemos hacer una tarea repetitiva."
   ],
   "metadata": {
    "collapsed": false
   }
  },
  {
   "cell_type": "markdown",
   "source": [
    "Tenemos dos tipos de ciclos:\n",
    "- For\n",
    "- While"
   ],
   "metadata": {
    "collapsed": false
   }
  },
  {
   "cell_type": "markdown",
   "source": [
    "La sintaxis de estos es, para el for:"
   ],
   "metadata": {
    "collapsed": false
   }
  },
  {
   "cell_type": "markdown",
   "source": [
    "for [ elemento iterador]:\n",
    "    //Acá va el código que se itera.\n",
    "//Al terminar la identación termina el ciclo"
   ],
   "metadata": {
    "collapsed": false
   }
  },
  {
   "cell_type": "markdown",
   "source": [
    "La sintasix para un while, es la siguiente:\n",
    "while [ Condición booleana]:\n",
    "    //Acá va el código que se itera\n",
    "//Al terminar el identado termina el ciclo."
   ],
   "metadata": {
    "collapsed": false
   }
  },
  {
   "cell_type": "markdown",
   "source": [
    "El for se utiliza cuando se quiere iterar sobre una estructura iterable, como las listas, tuplas, diccionarios, cadenas, entre otras."
   ],
   "metadata": {
    "collapsed": false
   }
  },
  {
   "cell_type": "markdown",
   "source": [
    "El while se utiliza para hacer ciclos cuando el fin del mismo depende de que se cumpla cierta condición."
   ],
   "metadata": {
    "collapsed": false
   }
  },
  {
   "cell_type": "markdown",
   "source": [
    "En esencia, ambos son intercambiables, pero algunas veces es fácil utilizar uno que el otro."
   ],
   "metadata": {
    "collapsed": false
   }
  },
  {
   "cell_type": "code",
   "execution_count": 1,
   "outputs": [
    {
     "name": "stdout",
     "output_type": "stream",
     "text": [
      "El cuadro de  0 es 0\n",
      "El cuadro de  1 es 1\n",
      "El cuadro de  2 es 4\n",
      "El cuadro de  3 es 9\n",
      "El cuadro de  4 es 16\n",
      "El cuadro de  5 es 25\n",
      "El cuadro de  6 es 36\n",
      "El cuadro de  7 es 49\n",
      "El cuadro de  8 es 64\n",
      "El cuadro de  9 es 81\n"
     ]
    }
   ],
   "source": [
    "for x in range(10):\n",
    "    print(\"El cuadro de \", x, \"es\", x**2)"
   ],
   "metadata": {
    "collapsed": false
   }
  },
  {
   "cell_type": "code",
   "execution_count": 4,
   "outputs": [
    {
     "name": "stdout",
     "output_type": "stream",
     "text": [
      "El cuadro de  0 es 0\n",
      "El cuadro de  1 es 1\n",
      "El cuadro de  2 es 4\n",
      "El cuadro de  3 es 9\n",
      "El cuadro de  4 es 16\n",
      "El cuadro de  5 es 25\n",
      "El cuadro de  6 es 36\n",
      "El cuadro de  7 es 49\n",
      "El cuadro de  8 es 64\n",
      "El cuadro de  9 es 81\n"
     ]
    }
   ],
   "source": [
    "numero = 0\n",
    "while numero < 10:\n",
    "    print(\"El cuadro de \", numero, \"es\", numero**2)\n",
    "    numero = numero + 1\n",
    "    #numero += 1"
   ],
   "metadata": {
    "collapsed": false
   }
  },
  {
   "cell_type": "markdown",
   "source": [
    "Vamos a implementar la suma de gauss, con ciclos:"
   ],
   "metadata": {
    "collapsed": false
   }
  },
  {
   "cell_type": "code",
   "execution_count": 6,
   "outputs": [
    {
     "name": "stdout",
     "output_type": "stream",
     "text": [
      "El valor de la suma de gauss es 55\n"
     ]
    }
   ],
   "source": [
    "n = int(input(\"Ingrese el número hasta donde desea realizar la suma\"))\n",
    "suma = 0\n",
    "for x in range(n+1):\n",
    "    suma = suma + x\n",
    "print(\"El valor de la suma de gauss es\", suma)"
   ],
   "metadata": {
    "collapsed": false
   }
  },
  {
   "cell_type": "code",
   "execution_count": 7,
   "outputs": [
    {
     "name": "stdout",
     "output_type": "stream",
     "text": [
      "El valor de la suma de gauss es 55\n"
     ]
    }
   ],
   "source": [
    "n = int(input(\"Ingrese el número hasta donde desea realizar la suma\"))\n",
    "suma = 0\n",
    "contador = 0\n",
    "while contador < n:\n",
    "    suma = suma + contador + 1\n",
    "    contador += 1\n",
    "print(\"El valor de la suma de gauss es\", suma)"
   ],
   "metadata": {
    "collapsed": false
   }
  }
 ],
 "metadata": {
  "kernelspec": {
   "display_name": "Python 3",
   "language": "python",
   "name": "python3"
  },
  "language_info": {
   "codemirror_mode": {
    "name": "ipython",
    "version": 2
   },
   "file_extension": ".py",
   "mimetype": "text/x-python",
   "name": "python",
   "nbconvert_exporter": "python",
   "pygments_lexer": "ipython2",
   "version": "2.7.6"
  }
 },
 "nbformat": 4,
 "nbformat_minor": 0
}

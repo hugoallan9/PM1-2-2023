{
 "cells": [
  {
   "cell_type": "markdown",
   "source": [
    "# Funciones\n",
    "Las funciones son porciones de código que se utilizan para su reutilización. Generalmente reciben parámetros y devuelven."
   ],
   "metadata": {
    "collapsed": false
   }
  },
  {
   "cell_type": "markdown",
   "source": [
    "En Python se utiliza la palabra reservada def para definir una función."
   ],
   "metadata": {
    "collapsed": false
   }
  },
  {
   "cell_type": "code",
   "execution_count": 1,
   "outputs": [],
   "source": [
    "def suma(numero1,numero2):\n",
    "    return numero1+numero2"
   ],
   "metadata": {
    "collapsed": false
   }
  },
  {
   "cell_type": "code",
   "execution_count": 2,
   "outputs": [
    {
     "data": {
      "text/plain": "8"
     },
     "execution_count": 2,
     "metadata": {},
     "output_type": "execute_result"
    }
   ],
   "source": [
    "suma(5,3)"
   ],
   "metadata": {
    "collapsed": false
   }
  },
  {
   "cell_type": "code",
   "execution_count": 6,
   "outputs": [],
   "source": [
    "def es_primo(p):\n",
    "    retorno = 0\n",
    "    if p <= 0:\n",
    "        retorno = \"La función es válida solo para números naturales\"\n",
    "    elif p == 1:\n",
    "        retorno = False\n",
    "    elif p == 2:\n",
    "        retorno = True\n",
    "    elif p > 1:\n",
    "        for x in range(2,p):\n",
    "            if p % x == 0:\n",
    "                retorno = False\n",
    "                break\n",
    "            if x == p -1:\n",
    "                retorno = True\n",
    "    return retorno"
   ],
   "metadata": {
    "collapsed": false
   }
  },
  {
   "cell_type": "code",
   "execution_count": 16,
   "outputs": [
    {
     "data": {
      "text/plain": "True"
     },
     "execution_count": 16,
     "metadata": {},
     "output_type": "execute_result"
    }
   ],
   "source": [
    "es_primo(7)"
   ],
   "metadata": {
    "collapsed": false
   }
  },
  {
   "cell_type": "code",
   "execution_count": 28,
   "outputs": [],
   "source": [
    "from math import sqrt, ceil\n",
    "def es_primo_mejorada(p):\n",
    "    retorno = 0\n",
    "    if p <= 0:\n",
    "        retorno = \"La función es válida solo para números naturales\"\n",
    "    elif p == 1:\n",
    "        retorno = False\n",
    "    elif p <4:\n",
    "        retorno = True\n",
    "    elif p == 4:\n",
    "        retorno = False\n",
    "    elif p == 5:\n",
    "        retorno = True\n",
    "    elif p == 6:\n",
    "        retorno = False\n",
    "    elif p == 7:\n",
    "        retorno = True\n",
    "    elif p == 8:\n",
    "        retorno = False\n",
    "    elif p == 9:\n",
    "        retorno = False\n",
    "    else:\n",
    "        for x in range(2,ceil(sqrt(p))):\n",
    "            if p % x == 0:\n",
    "                retorno = False\n",
    "                break\n",
    "            if x == ceil(sqrt(p)) -1:\n",
    "                retorno = True\n",
    "    return retorno"
   ],
   "metadata": {
    "collapsed": false
   }
  },
  {
   "cell_type": "code",
   "execution_count": 35,
   "outputs": [
    {
     "data": {
      "text/plain": "True"
     },
     "execution_count": 35,
     "metadata": {},
     "output_type": "execute_result"
    }
   ],
   "source": [
    "es_primo_mejorada(107)"
   ],
   "metadata": {
    "collapsed": false
   }
  },
  {
   "cell_type": "code",
   "execution_count": null,
   "outputs": [
    {
     "name": "stdout",
     "output_type": "stream",
     "text": [
      "El número aleatorio es 4442558130851\n"
     ]
    }
   ],
   "source": [
    "from time import time\n",
    "from random import randint\n",
    "x = randint(1000000000000,10000000000000)\n",
    "print(\"El número aleatorio es\", x)\n",
    "inicio1 = time()\n",
    "print(es_primo(x))\n",
    "fin1 = time()\n",
    "print(\"El tiempo de ejecución de es_primo fue de\", fin1 - inicio1)\n",
    "inicio2 = time()\n",
    "print(es_primo_mejorada(x))\n",
    "fin2 = time()\n",
    "print(\"El tiempo de ejecución de es_primo_mejorada fue de\", fin2 - inicio2)\n",
    "print(\"El mejorado es \", (fin2-inicio2)/(fin1-inicio1), \"veces más rápido\")"
   ],
   "metadata": {
    "collapsed": false,
    "pycharm": {
     "is_executing": true
    }
   }
  },
  {
   "cell_type": "markdown",
   "source": [
    "## Funciones recursivas\n",
    "Las funciones recursivas, son aquellas que dentro de su definición se llaman a sí mismas.\n",
    "Siempre las funciones recursiva tienen que tener un \"caso base\" que permita detener su ejecución para que no se quede llamando a sí misma eternamente."
   ],
   "metadata": {
    "collapsed": false
   }
  },
  {
   "cell_type": "code",
   "execution_count": 79,
   "outputs": [],
   "source": [
    "def imprimirNumeros(numero):\n",
    "    if numero == 1:\n",
    "        print(1)\n",
    "    else:\n",
    "        imprimirNumeros(numero-1)\n",
    "        print(numero)"
   ],
   "metadata": {
    "collapsed": false
   }
  },
  {
   "cell_type": "code",
   "execution_count": 80,
   "outputs": [
    {
     "name": "stdout",
     "output_type": "stream",
     "text": [
      "1\n",
      "2\n",
      "3\n",
      "4\n",
      "5\n",
      "6\n",
      "7\n",
      "8\n",
      "9\n",
      "10\n"
     ]
    }
   ],
   "source": [
    "imprimirNumeros(10)"
   ],
   "metadata": {
    "collapsed": false
   }
  },
  {
   "cell_type": "code",
   "execution_count": 1,
   "outputs": [],
   "source": [
    "def fibonnacci(n):\n",
    "    if n == 1 or n == 2:\n",
    "        return 1\n",
    "    else:\n",
    "        return fibonnacci(n-1) + fibonnacci(n-2)"
   ],
   "metadata": {
    "collapsed": false
   }
  },
  {
   "cell_type": "code",
   "execution_count": 2,
   "outputs": [
    {
     "name": "stdout",
     "output_type": "stream",
     "text": [
      "55\n"
     ]
    }
   ],
   "source": [
    "print(fibonnacci(10))"
   ],
   "metadata": {
    "collapsed": false
   }
  },
  {
   "cell_type": "markdown",
   "source": [
    "Vamos a escribir una función recursiva para determinar si una palabra es palíndromo o no. Esta función deberá retornar TRUE en caso la palabra sea palíndromo o FALSE en caso contrario."
   ],
   "metadata": {
    "collapsed": false
   }
  },
  {
   "cell_type": "code",
   "execution_count": 11,
   "outputs": [],
   "source": [
    "def esPalindromo(palabra):\n",
    "    #Caso base. Un solo caracter\n",
    "    if len(palabra) <= 1:\n",
    "        return True\n",
    "    else:\n",
    "        if palabra[0] == palabra[-1]:\n",
    "            return esPalindromo(palabra[1:-1])\n",
    "        else:\n",
    "            return False"
   ],
   "metadata": {
    "collapsed": false
   }
  },
  {
   "cell_type": "code",
   "execution_count": 15,
   "outputs": [
    {
     "name": "stdout",
     "output_type": "stream",
     "text": [
      "False\n"
     ]
    }
   ],
   "source": [
    "print(esPalindromo(\"\"))"
   ],
   "metadata": {
    "collapsed": false
   }
  },
  {
   "cell_type": "markdown",
   "source": [
    "Si se desea hacer válido para oraciones:"
   ],
   "metadata": {
    "collapsed": false
   }
  },
  {
   "cell_type": "code",
   "execution_count": 16,
   "outputs": [],
   "source": [
    "def esPalindromo(oracion):\n",
    "    #Caso base. Un solo caracter\n",
    "    palabra = oracion.replace(\" \", \"\")\n",
    "    if len(palabra) <= 1:\n",
    "        return True\n",
    "    else:\n",
    "        if palabra[0] == palabra[-1]:\n",
    "            return esPalindromo(palabra[1:-1])\n",
    "        else:\n",
    "            return False"
   ],
   "metadata": {
    "collapsed": false
   }
  },
  {
   "cell_type": "code",
   "execution_count": 18,
   "outputs": [
    {
     "data": {
      "text/plain": "True"
     },
     "execution_count": 18,
     "metadata": {},
     "output_type": "execute_result"
    }
   ],
   "source": [
    "esPalindromo(\"somos o no somos\")"
   ],
   "metadata": {
    "collapsed": false
   }
  }
 ],
 "metadata": {
  "kernelspec": {
   "display_name": "Python 3",
   "language": "python",
   "name": "python3"
  },
  "language_info": {
   "codemirror_mode": {
    "name": "ipython",
    "version": 2
   },
   "file_extension": ".py",
   "mimetype": "text/x-python",
   "name": "python",
   "nbconvert_exporter": "python",
   "pygments_lexer": "ipython2",
   "version": "2.7.6"
  }
 },
 "nbformat": 4,
 "nbformat_minor": 0
}

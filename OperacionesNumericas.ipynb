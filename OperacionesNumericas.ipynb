{
 "cells": [
  {
   "cell_type": "markdown",
   "source": [
    "# Operaciones númericas en Python\n",
    "Python permite hacer operaciones básicas entre números como sumas, restas, multiplicaciones, divisiones, exponciación, entre otras. Para algunas operaciones especiales, como la raíz cuadrada, la función techo/piso, se requerirá de la biblioteca Math."
   ],
   "metadata": {
    "collapsed": false
   }
  },
  {
   "cell_type": "markdown",
   "source": [
    "¿Cómo se hace la importación de la biblioteca?"
   ],
   "metadata": {
    "collapsed": false
   }
  },
  {
   "cell_type": "code",
   "execution_count": 2,
   "outputs": [],
   "source": [
    "import math #Es una mala práctica"
   ],
   "metadata": {
    "collapsed": false
   }
  },
  {
   "cell_type": "markdown",
   "source": [
    "Es mejor importar solo las funciones que van a hacer útiles."
   ],
   "metadata": {
    "collapsed": false
   }
  },
  {
   "cell_type": "code",
   "execution_count": 15,
   "outputs": [],
   "source": [
    "from math import sqrt, pi, fmod"
   ],
   "metadata": {
    "collapsed": false
   }
  },
  {
   "cell_type": "code",
   "execution_count": 8,
   "outputs": [
    {
     "name": "stdout",
     "output_type": "stream",
     "text": [
      "La raíz cuadrada de 28 es 5.29 aproximado a dos decimales\n"
     ]
    }
   ],
   "source": [
    "print(\"La raíz cuadrada de\", 28, \"es\", \"{raiz:.2f}\".format(raiz=sqrt(28)), \"aproximado a dos decimales\")"
   ],
   "metadata": {
    "collapsed": false
   }
  },
  {
   "cell_type": "code",
   "execution_count": 13,
   "outputs": [
    {
     "name": "stdout",
     "output_type": "stream",
     "text": [
      "La suma de pi con  1 es 4.141592653589793\n"
     ]
    }
   ],
   "source": [
    "print(\"La suma de pi\", \"con \", 1, \"es\", pi+1 )"
   ],
   "metadata": {
    "collapsed": false
   }
  },
  {
   "cell_type": "code",
   "execution_count": 19,
   "outputs": [
    {
     "name": "stdout",
     "output_type": "stream",
     "text": [
      "El cociente de dividir 10 con 3 es 3 y el residuo 1.0\n"
     ]
    }
   ],
   "source": [
    "print(\"El cociente de dividir\", 10, \"con\", 3, \"es\", 10//3, \"y el residuo\", fmod(10,3))"
   ],
   "metadata": {
    "collapsed": false
   }
  },
  {
   "cell_type": "code",
   "execution_count": 20,
   "outputs": [
    {
     "name": "stdout",
     "output_type": "stream",
     "text": [
      "3 elevado a la 4 es 81\n"
     ]
    }
   ],
   "source": [
    "print(3, \"elevado a la\", 4, \"es\", 3**4)"
   ],
   "metadata": {
    "collapsed": false
   }
  }
 ],
 "metadata": {
  "kernelspec": {
   "display_name": "Python 3",
   "language": "python",
   "name": "python3"
  },
  "language_info": {
   "codemirror_mode": {
    "name": "ipython",
    "version": 2
   },
   "file_extension": ".py",
   "mimetype": "text/x-python",
   "name": "python",
   "nbconvert_exporter": "python",
   "pygments_lexer": "ipython2",
   "version": "2.7.6"
  }
 },
 "nbformat": 4,
 "nbformat_minor": 0
}

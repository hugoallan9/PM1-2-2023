{
 "cells": [
  {
   "cell_type": "markdown",
   "source": [
    "# Programación orientada a objetos\n",
    "Es un paradigma de programación en donde todo el software se modela como objetos.\n",
    "Es importante notar que los objetos van a tener características (atributos) y comportamientos (métodos)."
   ],
   "metadata": {
    "collapsed": false
   }
  },
  {
   "cell_type": "markdown",
   "source": [
    "Para crear (instanciar) un objeto se utilizan las clases, que son una especie de plantillas que permiten crear objetos a partir de esa plantilla. En Python, estas plantillas se crean con la plabra reservada class. En la siguiente celda se da un ejemplo."
   ],
   "metadata": {
    "collapsed": false
   }
  },
  {
   "cell_type": "code",
   "execution_count": 27,
   "outputs": [],
   "source": [
    "class Perro:\n",
    "    #Acá se define el constructor.\n",
    "    def __init__(self, nombre, raza, color):\n",
    "        self.nombre = nombre\n",
    "        self.raza = raza\n",
    "        self.color = color\n",
    "        self.edad = None\n",
    "        self.__genero = None\n",
    "\n",
    "    #Crear setter y getters\n",
    "    def setNombre(self, nombre):\n",
    "        self.nombre = nombre\n",
    "\n",
    "    def getNombre(self):\n",
    "        return self.nombre\n",
    "\n",
    "    def setRaza(self, raza):\n",
    "        self.raza = raza\n",
    "\n",
    "    def getRaza(self):\n",
    "        return self.raza\n",
    "\n",
    "    def setColor(self, color):\n",
    "        self.color = color\n",
    "\n",
    "    def getColor(self):\n",
    "        return self.color\n",
    "\n",
    "    def setEdad(self, edad):\n",
    "        self.edad = edad\n",
    "\n",
    "    def getEdad(self):\n",
    "        return self.edad\n",
    "\n",
    "    def setGenero(self, genero):\n",
    "        self.__genero = genero\n",
    "\n",
    "    def getGenero(self):\n",
    "        return self.__genero\n",
    "\n",
    "    def ladrar(self):\n",
    "        print(\"Gua gua gua gua\")\n",
    "\n",
    "\n",
    "\n"
   ],
   "metadata": {
    "collapsed": false
   }
  },
  {
   "cell_type": "markdown",
   "source": [
    "Ahora debemos instanciar la clase para crear uno o más objeto a partir de ella."
   ],
   "metadata": {
    "collapsed": false
   }
  },
  {
   "cell_type": "code",
   "execution_count": 28,
   "outputs": [],
   "source": [
    "balder = Perro(nombre=\"Balder\", raza=\"Shit zu\", color=\"Blanco y negro\")"
   ],
   "metadata": {
    "collapsed": false
   }
  },
  {
   "cell_type": "code",
   "execution_count": 29,
   "outputs": [],
   "source": [
    "balder.setEdad(4)"
   ],
   "metadata": {
    "collapsed": false
   }
  },
  {
   "cell_type": "code",
   "execution_count": 30,
   "outputs": [],
   "source": [
    "balder.setGenero(\"Macho\")"
   ],
   "metadata": {
    "collapsed": false
   }
  },
  {
   "cell_type": "code",
   "execution_count": 31,
   "outputs": [
    {
     "name": "stdout",
     "output_type": "stream",
     "text": [
      "Balder es un perro de color Blanco y negro que tiene 4 años\n"
     ]
    }
   ],
   "source": [
    "print(\"Balder es un perro de color\", balder.getColor(), \"que tiene\", balder.getEdad(), \"años\")"
   ],
   "metadata": {
    "collapsed": false
   }
  },
  {
   "cell_type": "markdown",
   "source": [
    "\"Cómo ladra Balder?\""
   ],
   "metadata": {
    "collapsed": false
   }
  },
  {
   "cell_type": "code",
   "execution_count": 32,
   "outputs": [
    {
     "name": "stdout",
     "output_type": "stream",
     "text": [
      "Gua gua gua gua\n"
     ]
    }
   ],
   "source": [
    "balder.ladrar()"
   ],
   "metadata": {
    "collapsed": false
   }
  },
  {
   "cell_type": "markdown",
   "source": [
    "La otra forma de acceder a los atributos de la clase es mediante el punto."
   ],
   "metadata": {
    "collapsed": false
   }
  },
  {
   "cell_type": "code",
   "execution_count": 35,
   "outputs": [],
   "source": [
    "balder.genero = \"Hembra\""
   ],
   "metadata": {
    "collapsed": false
   }
  },
  {
   "cell_type": "code",
   "execution_count": 37,
   "outputs": [
    {
     "ename": "AttributeError",
     "evalue": "'Perro' object has no attribute '__genero'",
     "output_type": "error",
     "traceback": [
      "\u001B[1;31m---------------------------------------------------------------------------\u001B[0m",
      "\u001B[1;31mAttributeError\u001B[0m                            Traceback (most recent call last)",
      "Cell \u001B[1;32mIn[37], line 1\u001B[0m\n\u001B[1;32m----> 1\u001B[0m \u001B[38;5;28mprint\u001B[39m(\u001B[38;5;124m\"\u001B[39m\u001B[38;5;124mBalder es una\u001B[39m\u001B[38;5;124m\"\u001B[39m, \u001B[43mbalder\u001B[49m\u001B[38;5;241;43m.\u001B[39;49m\u001B[43m__genero\u001B[49m)\n",
      "\u001B[1;31mAttributeError\u001B[0m: 'Perro' object has no attribute '__genero'"
     ]
    }
   ],
   "source": [
    "print(\"Balder es una\", balder.genero)"
   ],
   "metadata": {
    "collapsed": false
   }
  },
  {
   "cell_type": "code",
   "execution_count": 40,
   "outputs": [
    {
     "ename": "TypeError",
     "evalue": "__init__() missing 1 required positional argument: 'color'",
     "output_type": "error",
     "traceback": [
      "\u001B[1;31m---------------------------------------------------------------------------\u001B[0m",
      "\u001B[1;31mTypeError\u001B[0m                                 Traceback (most recent call last)",
      "Cell \u001B[1;32mIn[40], line 1\u001B[0m\n\u001B[1;32m----> 1\u001B[0m emiliana \u001B[38;5;241m=\u001B[39m \u001B[43mPerro\u001B[49m\u001B[43m(\u001B[49m\u001B[43m \u001B[49m\u001B[38;5;124;43m\"\u001B[39;49m\u001B[38;5;124;43mShit zu\u001B[39;49m\u001B[38;5;124;43m\"\u001B[39;49m\u001B[43m,\u001B[49m\u001B[43m \u001B[49m\u001B[38;5;124;43m\"\u001B[39;49m\u001B[38;5;124;43mBlanco con cafe y negro\u001B[39;49m\u001B[38;5;124;43m\"\u001B[39;49m\u001B[43m)\u001B[49m\n",
      "\u001B[1;31mTypeError\u001B[0m: __init__() missing 1 required positional argument: 'color'"
     ]
    }
   ],
   "source": [
    "emiliana = Perro( \"Shit zu\", \"Blanco con cafe y negro\")"
   ],
   "metadata": {
    "collapsed": false
   }
  },
  {
   "cell_type": "code",
   "execution_count": 39,
   "outputs": [
    {
     "name": "stdout",
     "output_type": "stream",
     "text": [
      "El nombre de esta instancia es Emiliana\n"
     ]
    }
   ],
   "source": [
    "print(\"El nombre de esta instancia es\", emiliana.getNombre())"
   ],
   "metadata": {
    "collapsed": false
   }
  },
  {
   "cell_type": "code",
   "execution_count": 44,
   "outputs": [],
   "source": [
    "class Empleado:\n",
    "     def __init__(self, nombre, codigoEmpleado):\n",
    "        self.nombre = nombre\n",
    "        self.codigoEmpleado = codigoEmpleado\n",
    "\n",
    "     def trabajar(self):\n",
    "         print(\"Estoy trabajando en el hospital veterinario\")"
   ],
   "metadata": {
    "collapsed": false
   }
  },
  {
   "cell_type": "code",
   "execution_count": 49,
   "outputs": [],
   "source": [
    "class Veterinario(Empleado):\n",
    "    def __init__(self, nombre, codigoEmpleado):\n",
    "        super().__init__(nombre=nombre, codigoEmpleado=codigoEmpleado)\n",
    "        self.especialidad = None\n",
    "\n",
    "    def setNombre(self, nombre):\n",
    "        self.nombre = nombre\n",
    "\n",
    "    def getNombre(self):\n",
    "        return self.nombre\n",
    "\n",
    "    def setCodigoEmpleado(self, ce):\n",
    "        self.codigoEmpleado = ce\n",
    "\n",
    "    def getCodigoEmpleado(self):\n",
    "        return self.codigoEmpleado\n",
    "\n",
    "    def setEspecialidad(self, especilidad):\n",
    "        self.especialidad = especilidad\n",
    "\n",
    "    def getEspecialidad(self):\n",
    "        return self.especialidad\n",
    "\n",
    "    def evaluarPaciente(self, perro):\n",
    "        print(\"El veterinario\", self.nombre, \"evalua al perro\", perro.getNombre())\n",
    "\n",
    "\n",
    "   def trabajar(self):\n",
    "        print(\"Yo soy un veterinario trabajador\")\n"
   ],
   "metadata": {
    "collapsed": false
   }
  },
  {
   "cell_type": "code",
   "execution_count": null,
   "outputs": [],
   "source": [],
   "metadata": {
    "collapsed": false
   }
  },
  {
   "cell_type": "code",
   "execution_count": 50,
   "outputs": [],
   "source": [
    "lisandro = Veterinario(nombre=\"Lisandro\", codigoEmpleado=\"0115\")"
   ],
   "metadata": {
    "collapsed": false
   }
  },
  {
   "cell_type": "code",
   "execution_count": 51,
   "outputs": [
    {
     "name": "stdout",
     "output_type": "stream",
     "text": [
      "El veterinario Lisandro evalua al perro Emiliana\n"
     ]
    }
   ],
   "source": [
    "lisandro.evaluarPaciente(emiliana)"
   ],
   "metadata": {
    "collapsed": false
   }
  },
  {
   "cell_type": "code",
   "execution_count": 52,
   "outputs": [
    {
     "name": "stdout",
     "output_type": "stream",
     "text": [
      "Yo soy un veterinario trabajador\n"
     ]
    }
   ],
   "source": [
    "lisandro.trabajar()"
   ],
   "metadata": {
    "collapsed": false
   }
  },
  {
   "cell_type": "code",
   "execution_count": 53,
   "outputs": [],
   "source": [
    "karen = Empleado(nombre=\"Karen\", codigoEmpleado=\"1526\")"
   ],
   "metadata": {
    "collapsed": false
   }
  },
  {
   "cell_type": "code",
   "execution_count": 54,
   "outputs": [
    {
     "name": "stdout",
     "output_type": "stream",
     "text": [
      "Estoy trabajando en el hospital veterinario\n"
     ]
    }
   ],
   "source": [
    "karen.trabajar()"
   ],
   "metadata": {
    "collapsed": false
   }
  }
 ],
 "metadata": {
  "kernelspec": {
   "display_name": "Python 3",
   "language": "python",
   "name": "python3"
  },
  "language_info": {
   "codemirror_mode": {
    "name": "ipython",
    "version": 2
   },
   "file_extension": ".py",
   "mimetype": "text/x-python",
   "name": "python",
   "nbconvert_exporter": "python",
   "pygments_lexer": "ipython2",
   "version": "2.7.6"
  }
 },
 "nbformat": 4,
 "nbformat_minor": 0
}
